{
 "cells": [
  {
   "cell_type": "markdown",
   "metadata": {},
   "source": [
    "# Cross Entropy\n",
    "> PyTorch와 Numpy로 구현하는 Cross Entropy\n",
    "\n",
    "- toc: true \n",
    "- badges: true\n",
    "- comments: true\n",
    "- categories: [Implementation, AI-math]\n",
    "- image: images/chart-preview.png"
   ]
  },
  {
   "cell_type": "markdown",
   "metadata": {},
   "source": [
    "# Library 호출"
   ]
  },
  {
   "cell_type": "code",
   "execution_count": 2,
   "metadata": {},
   "outputs": [],
   "source": [
    "import math\n",
    "import numbers\n",
    "from typing import Optional, Tuple, Sequence, Union, Any\n",
    "\n",
    "import numpy as np\n",
    "\n",
    "import torch\n",
    "import torch.nn as nn"
   ]
  },
  {
   "cell_type": "markdown",
   "metadata": {},
   "source": [
    "# Numpy로 구현하기"
   ]
  },
  {
   "cell_type": "code",
   "execution_count": 24,
   "metadata": {},
   "outputs": [],
   "source": [
    "class NumpyCrossEntropy:\n",
    "\n",
    "    @staticmethod\n",
    "    def log_softmax(ndarray: np.ndarray, dim: int = -1) -> np.ndarray:\n",
    "        c = np.amax(ndarray, axis=dim, keepdims=True)\n",
    "        s = ndarray - c\n",
    "        nominator = np.exp(s)\n",
    "        denominator = nominator.sum(axis=-1, keepdims=True)\n",
    "        probs = nominator / denominator\n",
    "        return np.log(probs)\n",
    "\n",
    "    @staticmethod\n",
    "    def negative_log_likelihood(y_pred: np.ndarray, y: np.ndarray) -> np.ndarray:\n",
    "        # must to be batch_first\n",
    "        log_likelihood = y_pred[np.arange(y_pred.shape[0]), y]\n",
    "        nll = -log_likelihood\n",
    "        return np.mean(nll)\n",
    "\n",
    "    def cross_entropy(self, y_pred: np.ndarray, y: np.ndarray) -> np.ndarray:\n",
    "        log_probs = self.log_softmax(y_pred)\n",
    "        ce_loss = self.negative_log_likelihood(log_probs, y)\n",
    "        return ce_loss"
   ]
  },
  {
   "cell_type": "code",
   "execution_count": 25,
   "metadata": {},
   "outputs": [],
   "source": [
    "nce = NumpyCrossEntropy()"
   ]
  },
  {
   "cell_type": "markdown",
   "metadata": {},
   "source": [
    "# PyTorch로 구현하기"
   ]
  },
  {
   "cell_type": "code",
   "execution_count": 131,
   "metadata": {},
   "outputs": [],
   "source": [
    "_TensorOrTensors = Union[torch.Tensor, Sequence[torch.Tensor]]\n",
    "\n",
    "\n",
    "class LogSoftmax(torch.autograd.Function):\n",
    "\n",
    "    @staticmethod\n",
    "    def forward(ctx: Any, tensor: Any, dim: int = -1) -> Any:\n",
    "        # softmax(x) = softmax(x+c)\n",
    "        c = torch.amax(tensor, dim=dim, keepdims=True)\n",
    "        s = tensor - c\n",
    "        # Calculate softmax\n",
    "        nominator = torch.exp(s)\n",
    "        denominator = nominator.sum(dim=dim, keepdims=True)\n",
    "        probs = nominator / denominator\n",
    "        # Calculate log\n",
    "        log_probs = torch.log(probs)\n",
    "        ctx.save_for_backward(probs, torch.tensor(dim))\n",
    "        return log_probs\n",
    "\n",
    "    @staticmethod\n",
    "    def backward(ctx: Any, grad_outputs: Any) -> Any:\n",
    "        # https://github.com/pytorch/pytorch/blob/master/aten/src/ATen/native/SoftMax.cpp#L219\n",
    "        probs, dim, = ctx.saved_tensors\n",
    "        grad_outputs -= probs * grad_outputs.sum(dim=dim.item(), keepdims=True)\n",
    "        return grad_outputs, None\n",
    "\n",
    "\n",
    "class NegativeLogLikelihoodLoss(torch.autograd.Function):\n",
    "\n",
    "    @staticmethod\n",
    "    def forward(ctx: Any, y_pred: Any, y: Any) -> Any:\n",
    "        bsz, n_classes = torch.tensor(y_pred.size())\n",
    "        ctx.save_for_backward(bsz, n_classes, y)\n",
    "        log_likelihood = y_pred[torch.arange(bsz), y] # Calculate Log Likelihood\n",
    "        nll = -log_likelihood # Calculate Negative Log Likelihood\n",
    "        return torch.mean(nll) # Calculate Loss\n",
    "\n",
    "    @staticmethod\n",
    "    def backward(ctx: Any, grad_outputs: Any) -> Any:\n",
    "        bsz, n_classes, y, = ctx.saved_tensors\n",
    "        mean_grad = grad_outputs.expand(bsz) / bsz # backward mean function\n",
    "        negative_mean_grad = -mean_grad # backward negative\n",
    "        # backward log likelihood (indexing)\n",
    "        ll_grad = torch.zeros(bsz, n_classes)\n",
    "        ll_grad[torch.arange(bsz), y] = 1.\n",
    "        grad_outputs = torch.diag(negative_mean_grad) @ ll_grad\n",
    "        return grad_outputs, None\n",
    "\n",
    "\n",
    "class CrossEntropyLoss(nn.Module):\n",
    "    \n",
    "    log_softmax = LogSoftmax.apply\n",
    "    negative_log_likelihood = NegativeLogLikelihoodLoss.apply\n",
    "\n",
    "    def forward(self, y_pred, y):\n",
    "        log_probs = self.log_softmax(y_pred, -1)\n",
    "        ce_loss = self.negative_log_likelihood(log_probs, y)\n",
    "        probs = torch.exp(log_probs) / log_probs.size(0)\n",
    "        self.save_for_backward(probs, y, y_pred.size(0), y_pred.size(-1))\n",
    "        return ce_loss\n",
    "\n",
    "    def save_for_backward(self, *args):\n",
    "        self.saved_tensors = args\n",
    "\n",
    "    @torch.no_grad()\n",
    "    def backward(self, grad_outputs: _TensorOrTensors) -> _TensorOrTensors:\n",
    "        probs, y, bsz, num_classes, = self.saved_tensors\n",
    "        y = torch.nn.functional.one_hot(y, num_classes=num_classes)\n",
    "        ce_grad = probs - (y / bsz)\n",
    "        return grad_outputs * ce_grad\n",
    "    \n",
    "    \n",
    "class PyTorchCrossEntropy:\n",
    "    \n",
    "    def __init__(self):\n",
    "        self.cross_entropy = CrossEntropyLoss()\n",
    "        self.log_softmax = self.cross_entropy.log_softmax\n",
    "        self.negative_log_likelihood = self.cross_entropy.negative_log_likelihood"
   ]
  },
  {
   "cell_type": "code",
   "execution_count": 132,
   "metadata": {},
   "outputs": [],
   "source": [
    "tce = PyTorchCrossEntropy()"
   ]
  },
  {
   "cell_type": "markdown",
   "metadata": {},
   "source": [
    "# 결과값 비교"
   ]
  },
  {
   "cell_type": "code",
   "execution_count": 133,
   "metadata": {},
   "outputs": [],
   "source": [
    "import random\n",
    "from functools import partial\n",
    "\n",
    "\n",
    "batch_size = 8\n",
    "vocab_size = 3000\n",
    "\n",
    "rtol = 1e-4\n",
    "atol = 1e-6\n",
    "isclose = partial(torch.isclose, rtol=rtol, atol=atol)"
   ]
  },
  {
   "cell_type": "code",
   "execution_count": 134,
   "metadata": {},
   "outputs": [],
   "source": [
    "y_pred = [[random.normalvariate(mu=0., sigma=1.) for _ in range(vocab_size)] for _ in range(batch_size)]\n",
    "y_pred_torch = torch.FloatTensor(y_pred)\n",
    "y_pred_torch.requires_grad = True\n",
    "y_pred_numpy = y_pred_torch.detach().numpy()\n",
    "\n",
    "y = [random.randint(0, vocab_size) for _ in range(batch_size)]\n",
    "y_torch = torch.LongTensor(y)\n",
    "y_numpy = y_torch.numpy()"
   ]
  },
  {
   "cell_type": "code",
   "execution_count": 140,
   "metadata": {},
   "outputs": [
    {
     "name": "stdout",
     "output_type": "stream",
     "text": [
      "Do both output the same tensors? 🔥\n"
     ]
    }
   ],
   "source": [
    "ce_result = nn.CrossEntropyLoss()(y_pred_torch, y_torch)\n",
    "ce_numpy = nce.cross_entropy(y_pred_numpy, y_numpy)\n",
    "ce_torch = tce.cross_entropy(y_pred_torch, y_torch)\n",
    "\n",
    "try:\n",
    "    isclose(ce_result, ce_torch).item()\n",
    "    isclose(ce_result, torch.tensor(ce_numpy)).item()\n",
    "    success = True\n",
    "except:\n",
    "    success = False\n",
    "\n",
    "print(\"Do both output the same tensors?\", \"🔥\" if success else \"💩\")\n",
    "if not success:\n",
    "    raise Exeption(\"Something went wrong\")"
   ]
  },
  {
   "cell_type": "code",
   "execution_count": 141,
   "metadata": {},
   "outputs": [
    {
     "name": "stdout",
     "output_type": "stream",
     "text": [
      "Do both output the same tensors? 🔥\n"
     ]
    }
   ],
   "source": [
    "# backward (under debugging)\n",
    "ce_grad = torch.autograd.grad(ce_result, y_pred_torch, retain_graph=True)[0]\n",
    "my_ce_grad1 = torch.autograd.grad(ce_torch, y_pred_torch, retain_graph=True)[0]\n",
    "my_ce_grad2 = tce.cross_entropy.backward(torch.ones_like(y_pred_torch))\n",
    "# my_ce_grad2 = tce.cross_entropy.backward(y_pred_torch)\n",
    "\n",
    "try:\n",
    "    isclose(ce_grad, my_ce_grad1).all()\n",
    "    isclose(ce_grad, my_ce_grad2).all()\n",
    "    success = True\n",
    "except:\n",
    "    success = False\n",
    "\n",
    "print(\"Do both output the same tensors?\", \"🔥\" if success else \"💩\")\n",
    "if not success:\n",
    "    raise Exeption(\"Something went wrong\")"
   ]
  },
  {
   "cell_type": "code",
   "execution_count": 100,
   "metadata": {},
   "outputs": [],
   "source": [
    "import matplotlib.pyplot as plt"
   ]
  },
  {
   "cell_type": "code",
   "execution_count": 106,
   "metadata": {},
   "outputs": [
    {
     "data": {
      "text/plain": [
       "tensor([1, 1, 1, 1, 1, 1, 1, 1])"
      ]
     },
     "execution_count": 106,
     "metadata": {},
     "output_type": "execute_result"
    }
   ],
   "source": [
    "(~isclose(ce_grad, my_ce_grad)).sum(dim=1)"
   ]
  },
  {
   "cell_type": "code",
   "execution_count": 72,
   "metadata": {},
   "outputs": [
    {
     "data": {
      "text/plain": [
       "tensor([0, 0, 0,  ..., 0, 0, 0])"
      ]
     },
     "execution_count": 72,
     "metadata": {},
     "output_type": "execute_result"
    }
   ],
   "source": []
  },
  {
   "cell_type": "code",
   "execution_count": 68,
   "metadata": {},
   "outputs": [
    {
     "data": {
      "text/plain": [
       "[<matplotlib.lines.Line2D at 0x1fe6c8e22e8>]"
      ]
     },
     "execution_count": 68,
     "metadata": {},
     "output_type": "execute_result"
    },
    {
     "data": {
      "image/png": "[encoded data removed]",
      "text/plain": [
       "<Figure size 432x288 with 1 Axes>"
      ]
     },
     "metadata": {
      "needs_background": "light"
     },
     "output_type": "display_data"
    }
   ],
   "source": [
    "plt.plot((~isclose(ce_grad, my_ce_grad)).sum(dim=0).numpy())"
   ]
  },
  {
   "cell_type": "code",
   "execution_count": 58,
   "metadata": {},
   "outputs": [
    {
     "data": {
      "text/plain": [
       "tensor(2)"
      ]
     },
     "execution_count": 58,
     "metadata": {},
     "output_type": "execute_result"
    }
   ],
   "source": [
    "(~isclose(ce_grad, my_ce_grad)[:, 1000:2000]).sum()"
   ]
  }
 ],
 "metadata": {
  "kernelspec": {
   "display_name": "basic",
   "language": "python",
   "name": "basic"
  },
  "language_info": {
   "codemirror_mode": {
    "name": "ipython",
    "version": 3
   },
   "file_extension": ".py",
   "mimetype": "text/x-python",
   "name": "python",
   "nbconvert_exporter": "python",
   "pygments_lexer": "ipython3",
   "version": "3.6.9"
  }
 },
 "nbformat": 4,
 "nbformat_minor": 2
}
